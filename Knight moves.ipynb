{
 "cells": [
  {
   "cell_type": "code",
   "execution_count": 1,
   "metadata": {},
   "outputs": [],
   "source": [
    "import numpy as np\n",
    "import matplotlib.pyplot as plt\n",
    "import random\n",
    "import networkx as nx"
   ]
  },
  {
   "cell_type": "code",
   "execution_count": 2,
   "metadata": {},
   "outputs": [],
   "source": [
    "def initilize_the_graph(start, maximum):\n",
    "\n",
    "  graph = nx.DiGraph()\n",
    "  position_to_node = positions_to_nodes(maximum)\n",
    "  dx = [1, 2, 2, 1, -1, -2, -2, -1]\n",
    "  dy = [2, 1,-1,-2, -2, -1,  1,  2]\n",
    "\n",
    "  graph.add_node(0, pos=start)\n",
    "\n",
    "  for x, y in zip(dx, dy):\n",
    "    pos = (start[0] + x, start[1] + y)\n",
    "    if pos in position_to_node.keys():\n",
    "      graph.add_node(position_to_node[pos], pos=pos)\n",
    "      graph.add_edge(0, position_to_node[pos])\n",
    "    \n",
    "  return graph"
   ]
  },
  {
   "cell_type": "code",
   "execution_count": 3,
   "metadata": {},
   "outputs": [],
   "source": [
    "def positions_to_nodes(maximum):\n",
    "  \n",
    "  i = 1; dictionary = dict()\n",
    "  \n",
    "  for x in range(maximum):\n",
    "    for y in range(maximum):\n",
    "      dictionary[(x,y)] = i\n",
    "      i += 1\n",
    "\n",
    "  return dictionary"
   ]
  },
  {
   "cell_type": "code",
   "execution_count": 4,
   "metadata": {},
   "outputs": [],
   "source": [
    "def nodes_to_positions(maximum):\n",
    "  \n",
    "  i = 1; dictionary = dict()\n",
    "  \n",
    "  for x in range(maximum):\n",
    "    for y in range(maximum):\n",
    "      dictionary[i] = (x,y)\n",
    "      i += 1\n",
    "\n",
    "  return dictionary"
   ]
  },
  {
   "cell_type": "code",
   "execution_count": 5,
   "metadata": {},
   "outputs": [],
   "source": [
    "def add_moves_to_the_graph(graph, maximum):\n",
    "\n",
    "  dx = [1, 2, 2, 1, -1, -2, -2, -1]\n",
    "  dy = [2, 1,-1,-2, -2, -1,  1,  2]\n",
    "  position_to_node = positions_to_nodes(maximum)\n",
    "  nodes = list(); edges = list()\n",
    "  counter = max(list(graph.nodes)) + 1\n",
    "  for node in graph.nodes:\n",
    "    for x, y in zip(dx, dy):\n",
    "      pos = (graph.nodes[node]['pos'][0] + x, graph.nodes[node]['pos'][1] + y)\n",
    "      if pos in position_to_node.keys():\n",
    "        nodes.append((position_to_node[pos], {'pos':pos}))\n",
    "        edges.append((node, position_to_node[pos]))\n",
    "        counter += 1\n",
    "\n",
    "  graph.add_nodes_from(nodes)\n",
    "  graph.add_edges_from(edges)\n",
    "\n",
    "  return graph"
   ]
  },
  {
   "cell_type": "code",
   "execution_count": 6,
   "metadata": {},
   "outputs": [],
   "source": [
    "def complete_the_graph(start, target, maximum):\n",
    "\n",
    "  graph = initilize_the_graph(start, maximum)\n",
    "  positions = list()\n",
    "\n",
    "  while tuple(target) not in positions:\n",
    "    graph = add_moves_to_the_graph(graph, maximum)\n",
    "\n",
    "    for node in graph.nodes:\n",
    "      positions.append(graph.nodes[node]['pos'])\n",
    "\n",
    "  return graph"
   ]
  },
  {
   "cell_type": "code",
   "execution_count": 7,
   "metadata": {},
   "outputs": [],
   "source": [
    "def number_of_moves(maximum, start, target):\n",
    "\n",
    "  position_to_node = positions_to_nodes(maximum)\n",
    "  g = complete_the_graph(start, target, maximum)\n",
    "\n",
    "  node_to_position = nodes_to_positions(maximum)\n",
    "  \n",
    "  return nx.shortest_path(g, source=0, target=position_to_node[target]), node_to_position"
   ]
  },
  {
   "cell_type": "code",
   "execution_count": 8,
   "metadata": {},
   "outputs": [],
   "source": [
    "def plot_text(start, target, node_to_position, path):\n",
    "    plt.text(s='S', x=start[0] - 0.2, y=start[1] + .2, fontsize='xx-large', c='black' if (start[0]+start[1])%2==1 else 'white')\n",
    "    for i, order in zip(path[1:-1], range(len(path[1:-1]))):\n",
    "        plt.text(s=str(order + 1), x=node_to_position[i][0] - 0.2, y=node_to_position[i][1] + .2, fontsize='xx-large',c='black' if (node_to_position[i][0]+node_to_position[i][1])%2==1 else 'white')\n",
    "    plt.text(s='T', x=target[0] - 0.2, y=target[1] + .2, fontsize='xx-large',c='black' if (target[0]+target[1])%2==1 else 'white')\n"
   ]
  },
  {
   "cell_type": "code",
   "execution_count": 9,
   "metadata": {},
   "outputs": [],
   "source": [
    "def knight_animation(maximum, start, target, path, node_to_position):\n",
    "    from PIL import Image\n",
    "    from IPython.display import clear_output\n",
    "    from matplotlib.offsetbox import AnnotationBbox, OffsetImage\n",
    "    import time\n",
    "\n",
    "    fig, ax = plt.subplots()\n",
    "    array = np.zeros((maximum, maximum))\n",
    "    for i in range(maximum):\n",
    "        for j in range(maximum):\n",
    "            if (i+j) % 2 == 0:\n",
    "                array[i][j] = 1\n",
    "            \n",
    "    ax.matshow(array, cmap='Greys')\n",
    "\n",
    "    black_knight = Image.open('red knight white.png')\n",
    "    imagebox_black_knight = OffsetImage(black_knight, zoom=(130 / maximum) / 56)\n",
    "    ab_black_knight = AnnotationBbox(imagebox_black_knight, list(start), xycoords='data', frameon=False)\n",
    "\n",
    "    white_knight = Image.open('red knight black.png')\n",
    "    imagebox_white_knight = OffsetImage(white_knight, zoom=(130 / maximum) / 56)\n",
    "    ab_white_knight = AnnotationBbox(imagebox_white_knight, list(start), xycoords='data', frameon=False)\n",
    "\n",
    "    ax.add_artist(ab_black_knight if (start[0]+start[1])%2==1 else ab_white_knight)\n",
    "\n",
    "    plot_text(start, target, node_to_position, path)\n",
    "    plt.show()\n",
    "\n",
    "    time.sleep(.5)   \n",
    "    clear_output(wait=True)\n",
    "\n",
    "    for pos in path[1:]:\n",
    "        fig, ax = plt.subplots()\n",
    "        array = np.zeros((maximum,maximum))\n",
    "        for i in range(maximum):\n",
    "            for j in range(maximum):\n",
    "                if (i+j) % 2 == 0:\n",
    "                    array[i][j] = 1\n",
    "                \n",
    "        ax.matshow(array, cmap='Greys')\n",
    "\n",
    "        black_knight = Image.open('red knight white.png')\n",
    "        imagebox_black_knight = OffsetImage(black_knight, zoom=(130 / maximum) / 56)\n",
    "        ab_black_knight = AnnotationBbox(imagebox_black_knight, list(node_to_position[pos]), xycoords='data', frameon=False)\n",
    "\n",
    "        white_knight = Image.open('red knight black.png')\n",
    "        imagebox_white_knight = OffsetImage(white_knight, zoom=(130 / maximum) / 56)\n",
    "        ab_white_knight = AnnotationBbox(imagebox_white_knight, list(node_to_position[pos]), xycoords='data', frameon=False)\n",
    "\n",
    "        ax.add_artist(ab_black_knight if (node_to_position[pos][0]+node_to_position[pos][1])%2==1 else ab_white_knight)\n",
    "\n",
    "        plot_text(start, target, node_to_position, path)\n",
    "        plt.show()\n",
    "\n",
    "        time.sleep(0.5)\n",
    "        clear_output(wait=True)"
   ]
  },
  {
   "cell_type": "code",
   "execution_count": 10,
   "metadata": {},
   "outputs": [],
   "source": [
    "def minimum_moves(maximum, start, target):\n",
    "    try:\n",
    "        path, node_to_position = number_of_moves(maximum, start, target)\n",
    "        knight_animation(maximum, start, target, path, node_to_position)\n",
    "    except:\n",
    "        print('Impossible!')"
   ]
  },
  {
   "cell_type": "code",
   "execution_count": 13,
   "metadata": {},
   "outputs": [
    {
     "data": {
      "image/png": "[encoded data removed]",
      "text/plain": [
       "<Figure size 432x288 with 1 Axes>"
      ]
     },
     "metadata": {
      "needs_background": "light"
     },
     "output_type": "display_data"
    }
   ],
   "source": [
    "maximum = 8\n",
    "start = (random.randrange(0,maximum-1),random.randrange(0,maximum-1))\n",
    "target = (random.randrange(0,maximum-1),random.randrange(0,maximum-1))\n",
    "minimum_moves(maximum, start, target)"
   ]
  },
  {
   "cell_type": "code",
   "execution_count": 14,
   "metadata": {},
   "outputs": [
    {
     "name": "stdout",
     "output_type": "stream",
     "text": [
      "5\n"
     ]
    }
   ],
   "source": [
    "maximum = 8\n",
    "start = (random.randrange(0,maximum-1),random.randrange(0,maximum-1))\n",
    "target = (random.randrange(0,maximum-1),random.randrange(0,maximum-1))\n",
    "path, _ =number_of_moves(maximum, start, target)\n",
    "print(len(path))"
   ]
  }
 ],
 "metadata": {
  "interpreter": {
   "hash": "93ae5dc7bf18a243452d36a7ae0bb3a5f4d01e53871cd9a2a6271b90589722ab"
  },
  "kernelspec": {
   "display_name": "Python 3.8.6 64-bit",
   "language": "python",
   "name": "python3"
  },
  "language_info": {
   "codemirror_mode": {
    "name": "ipython",
    "version": 3
   },
   "file_extension": ".py",
   "mimetype": "text/x-python",
   "name": "python",
   "nbconvert_exporter": "python",
   "pygments_lexer": "ipython3",
   "version": "3.7.1"
  },
  "orig_nbformat": 4
 },
 "nbformat": 4,
 "nbformat_minor": 2
}
